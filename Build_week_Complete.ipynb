{
  "nbformat": 4,
  "nbformat_minor": 5,
  "metadata": {
    "kernelspec": {
      "display_name": "Python 3",
      "language": "python",
      "name": "python3"
    },
    "language_info": {
      "codemirror_mode": {
        "name": "ipython",
        "version": 3
      },
      "file_extension": ".py",
      "mimetype": "text/x-python",
      "name": "python",
      "nbconvert_exporter": "python",
      "pygments_lexer": "ipython3",
      "version": "3.8.8"
    },
    "colab": {
      "name": "Build week Complete.ipynb",
      "provenance": []
    }
  },
  "cells": [
    {
      "cell_type": "code",
      "metadata": {
        "colab": {
          "base_uri": "https://localhost:8080/"
        },
        "id": "aa522cfe",
        "outputId": "4aaa2fc1-bad4-42c9-8bb9-5b7380f9add6"
      },
      "source": [
        "#Needed Imports:\n",
        "import sys\n",
        "if 'google.colab' in sys.modules:\n",
        "    import matplotlib.pyplot as plt\n",
        "    !pip install category_encoders\n",
        "    !pip install pdpbox\n",
        "    !pip install shap\n",
        "    filepath = ''\n",
        "else:\n",
        "    filepath = 'data/'\n",
        "import pandas as pd\n",
        "import numpy as np\n",
        "from sklearn.ensemble import RandomForestClassifier\n",
        "from category_encoders import OrdinalEncoder\n",
        "from sklearn.pipeline import make_pipeline\n",
        "from sklearn.ensemble import RandomForestClassifier, GradientBoostingClassifier\n",
        "from sklearn.tree import DecisionTreeClassifier\n",
        "from xgboost import XGBClassifier\n",
        "from sklearn.inspection import permutation_importance\n",
        "from sklearn.model_selection import RandomizedSearchCV\n",
        "from sklearn.preprocessing import LabelEncoder\n",
        "from sklearn.model_selection import train_test_split\n",
        "from sklearn.metrics import classification_report, roc_curve, plot_confusion_matrix, plot_roc_curve\n",
        "import shap"
      ],
      "id": "aa522cfe",
      "execution_count": null,
      "outputs": [
        {
          "output_type": "stream",
          "text": [
            "Requirement already satisfied: category_encoders in /usr/local/lib/python3.7/dist-packages (2.2.2)\n",
            "Requirement already satisfied: pandas>=0.21.1 in /usr/local/lib/python3.7/dist-packages (from category_encoders) (1.1.5)\n",
            "Requirement already satisfied: scipy>=1.0.0 in /usr/local/lib/python3.7/dist-packages (from category_encoders) (1.4.1)\n",
            "Requirement already satisfied: numpy>=1.14.0 in /usr/local/lib/python3.7/dist-packages (from category_encoders) (1.19.5)\n",
            "Requirement already satisfied: statsmodels>=0.9.0 in /usr/local/lib/python3.7/dist-packages (from category_encoders) (0.10.2)\n",
            "Requirement already satisfied: patsy>=0.5.1 in /usr/local/lib/python3.7/dist-packages (from category_encoders) (0.5.1)\n",
            "Requirement already satisfied: scikit-learn>=0.20.0 in /usr/local/lib/python3.7/dist-packages (from category_encoders) (0.22.2.post1)\n",
            "Requirement already satisfied: python-dateutil>=2.7.3 in /usr/local/lib/python3.7/dist-packages (from pandas>=0.21.1->category_encoders) (2.8.1)\n",
            "Requirement already satisfied: pytz>=2017.2 in /usr/local/lib/python3.7/dist-packages (from pandas>=0.21.1->category_encoders) (2018.9)\n",
            "Requirement already satisfied: six in /usr/local/lib/python3.7/dist-packages (from patsy>=0.5.1->category_encoders) (1.15.0)\n",
            "Requirement already satisfied: joblib>=0.11 in /usr/local/lib/python3.7/dist-packages (from scikit-learn>=0.20.0->category_encoders) (1.0.1)\n",
            "Requirement already satisfied: pdpbox in /usr/local/lib/python3.7/dist-packages (0.2.1)\n",
            "Requirement already satisfied: numpy in /usr/local/lib/python3.7/dist-packages (from pdpbox) (1.19.5)\n",
            "Requirement already satisfied: psutil in /usr/local/lib/python3.7/dist-packages (from pdpbox) (5.4.8)\n",
            "Requirement already satisfied: pandas in /usr/local/lib/python3.7/dist-packages (from pdpbox) (1.1.5)\n",
            "Requirement already satisfied: matplotlib==3.1.1 in /usr/local/lib/python3.7/dist-packages (from pdpbox) (3.1.1)\n",
            "Requirement already satisfied: scipy in /usr/local/lib/python3.7/dist-packages (from pdpbox) (1.4.1)\n",
            "Requirement already satisfied: sklearn in /usr/local/lib/python3.7/dist-packages (from pdpbox) (0.0)\n",
            "Requirement already satisfied: joblib in /usr/local/lib/python3.7/dist-packages (from pdpbox) (1.0.1)\n",
            "Requirement already satisfied: cycler>=0.10 in /usr/local/lib/python3.7/dist-packages (from matplotlib==3.1.1->pdpbox) (0.10.0)\n",
            "Requirement already satisfied: pyparsing!=2.0.4,!=2.1.2,!=2.1.6,>=2.0.1 in /usr/local/lib/python3.7/dist-packages (from matplotlib==3.1.1->pdpbox) (2.4.7)\n",
            "Requirement already satisfied: python-dateutil>=2.1 in /usr/local/lib/python3.7/dist-packages (from matplotlib==3.1.1->pdpbox) (2.8.1)\n",
            "Requirement already satisfied: kiwisolver>=1.0.1 in /usr/local/lib/python3.7/dist-packages (from matplotlib==3.1.1->pdpbox) (1.3.1)\n",
            "Requirement already satisfied: six in /usr/local/lib/python3.7/dist-packages (from cycler>=0.10->matplotlib==3.1.1->pdpbox) (1.15.0)\n",
            "Requirement already satisfied: pytz>=2017.2 in /usr/local/lib/python3.7/dist-packages (from pandas->pdpbox) (2018.9)\n",
            "Requirement already satisfied: scikit-learn in /usr/local/lib/python3.7/dist-packages (from sklearn->pdpbox) (0.22.2.post1)\n",
            "Requirement already satisfied: shap in /usr/local/lib/python3.7/dist-packages (0.39.0)\n",
            "Requirement already satisfied: slicer==0.0.7 in /usr/local/lib/python3.7/dist-packages (from shap) (0.0.7)\n",
            "Requirement already satisfied: numba in /usr/local/lib/python3.7/dist-packages (from shap) (0.51.2)\n",
            "Requirement already satisfied: tqdm>4.25.0 in /usr/local/lib/python3.7/dist-packages (from shap) (4.41.1)\n",
            "Requirement already satisfied: scipy in /usr/local/lib/python3.7/dist-packages (from shap) (1.4.1)\n",
            "Requirement already satisfied: cloudpickle in /usr/local/lib/python3.7/dist-packages (from shap) (1.3.0)\n",
            "Requirement already satisfied: numpy in /usr/local/lib/python3.7/dist-packages (from shap) (1.19.5)\n",
            "Requirement already satisfied: pandas in /usr/local/lib/python3.7/dist-packages (from shap) (1.1.5)\n",
            "Requirement already satisfied: scikit-learn in /usr/local/lib/python3.7/dist-packages (from shap) (0.22.2.post1)\n",
            "Requirement already satisfied: setuptools in /usr/local/lib/python3.7/dist-packages (from numba->shap) (57.2.0)\n",
            "Requirement already satisfied: llvmlite<0.35,>=0.34.0.dev0 in /usr/local/lib/python3.7/dist-packages (from numba->shap) (0.34.0)\n",
            "Requirement already satisfied: pytz>=2017.2 in /usr/local/lib/python3.7/dist-packages (from pandas->shap) (2018.9)\n",
            "Requirement already satisfied: python-dateutil>=2.7.3 in /usr/local/lib/python3.7/dist-packages (from pandas->shap) (2.8.1)\n",
            "Requirement already satisfied: six>=1.5 in /usr/local/lib/python3.7/dist-packages (from python-dateutil>=2.7.3->pandas->shap) (1.15.0)\n",
            "Requirement already satisfied: joblib>=0.11 in /usr/local/lib/python3.7/dist-packages (from scikit-learn->shap) (1.0.1)\n"
          ],
          "name": "stdout"
        },
        {
          "output_type": "stream",
          "text": [
            "/usr/local/lib/python3.7/dist-packages/statsmodels/tools/_testing.py:19: FutureWarning: pandas.util.testing is deprecated. Use the functions in the public API at pandas.testing instead.\n",
            "  import pandas.util.testing as tm\n"
          ],
          "name": "stderr"
        }
      ]
    },
    {
      "cell_type": "code",
      "metadata": {
        "id": "d5e8e9f9"
      },
      "source": [
        "#Wrangle function. This is limited as the data is already cleaned by the competition:\n",
        "def wrangle(fm_path, tv_path=None):\n",
        "    if tv_path:\n",
        "        df = pd.merge(pd.read_csv(fm_path),\n",
        "                      pd.read_csv(tv_path), on='building_id'\n",
        "                      ).set_index('building_id')\n",
        "    else:\n",
        "        df = pd.read_csv(fm_path, index_col='building_id')\n",
        "    return df"
      ],
      "id": "d5e8e9f9",
      "execution_count": null,
      "outputs": []
    },
    {
      "cell_type": "code",
      "metadata": {
        "colab": {
          "base_uri": "https://localhost:8080/",
          "height": 272
        },
        "id": "de36ce66",
        "outputId": "679d7479-adda-42ec-9f2f-678427996da4"
      },
      "source": [
        "#Data import:\n",
        "df = wrangle('train_values.csv', 'train_labels.csv')\n",
        "print(df.shape)\n",
        "df.head()"
      ],
      "id": "de36ce66",
      "execution_count": null,
      "outputs": [
        {
          "output_type": "stream",
          "text": [
            "(260601, 39)\n"
          ],
          "name": "stdout"
        },
        {
          "output_type": "execute_result",
          "data": {
            "text/html": [
              "<div>\n",
              "<style scoped>\n",
              "    .dataframe tbody tr th:only-of-type {\n",
              "        vertical-align: middle;\n",
              "    }\n",
              "\n",
              "    .dataframe tbody tr th {\n",
              "        vertical-align: top;\n",
              "    }\n",
              "\n",
              "    .dataframe thead th {\n",
              "        text-align: right;\n",
              "    }\n",
              "</style>\n",
              "<table border=\"1\" class=\"dataframe\">\n",
              "  <thead>\n",
              "    <tr style=\"text-align: right;\">\n",
              "      <th></th>\n",
              "      <th>geo_level_1_id</th>\n",
              "      <th>geo_level_2_id</th>\n",
              "      <th>geo_level_3_id</th>\n",
              "      <th>count_floors_pre_eq</th>\n",
              "      <th>age</th>\n",
              "      <th>area_percentage</th>\n",
              "      <th>height_percentage</th>\n",
              "      <th>land_surface_condition</th>\n",
              "      <th>foundation_type</th>\n",
              "      <th>roof_type</th>\n",
              "      <th>ground_floor_type</th>\n",
              "      <th>other_floor_type</th>\n",
              "      <th>position</th>\n",
              "      <th>plan_configuration</th>\n",
              "      <th>has_superstructure_adobe_mud</th>\n",
              "      <th>has_superstructure_mud_mortar_stone</th>\n",
              "      <th>has_superstructure_stone_flag</th>\n",
              "      <th>has_superstructure_cement_mortar_stone</th>\n",
              "      <th>has_superstructure_mud_mortar_brick</th>\n",
              "      <th>has_superstructure_cement_mortar_brick</th>\n",
              "      <th>has_superstructure_timber</th>\n",
              "      <th>has_superstructure_bamboo</th>\n",
              "      <th>has_superstructure_rc_non_engineered</th>\n",
              "      <th>has_superstructure_rc_engineered</th>\n",
              "      <th>has_superstructure_other</th>\n",
              "      <th>legal_ownership_status</th>\n",
              "      <th>count_families</th>\n",
              "      <th>has_secondary_use</th>\n",
              "      <th>has_secondary_use_agriculture</th>\n",
              "      <th>has_secondary_use_hotel</th>\n",
              "      <th>has_secondary_use_rental</th>\n",
              "      <th>has_secondary_use_institution</th>\n",
              "      <th>has_secondary_use_school</th>\n",
              "      <th>has_secondary_use_industry</th>\n",
              "      <th>has_secondary_use_health_post</th>\n",
              "      <th>has_secondary_use_gov_office</th>\n",
              "      <th>has_secondary_use_use_police</th>\n",
              "      <th>has_secondary_use_other</th>\n",
              "      <th>damage_grade</th>\n",
              "    </tr>\n",
              "    <tr>\n",
              "      <th>building_id</th>\n",
              "      <th></th>\n",
              "      <th></th>\n",
              "      <th></th>\n",
              "      <th></th>\n",
              "      <th></th>\n",
              "      <th></th>\n",
              "      <th></th>\n",
              "      <th></th>\n",
              "      <th></th>\n",
              "      <th></th>\n",
              "      <th></th>\n",
              "      <th></th>\n",
              "      <th></th>\n",
              "      <th></th>\n",
              "      <th></th>\n",
              "      <th></th>\n",
              "      <th></th>\n",
              "      <th></th>\n",
              "      <th></th>\n",
              "      <th></th>\n",
              "      <th></th>\n",
              "      <th></th>\n",
              "      <th></th>\n",
              "      <th></th>\n",
              "      <th></th>\n",
              "      <th></th>\n",
              "      <th></th>\n",
              "      <th></th>\n",
              "      <th></th>\n",
              "      <th></th>\n",
              "      <th></th>\n",
              "      <th></th>\n",
              "      <th></th>\n",
              "      <th></th>\n",
              "      <th></th>\n",
              "      <th></th>\n",
              "      <th></th>\n",
              "      <th></th>\n",
              "      <th></th>\n",
              "    </tr>\n",
              "  </thead>\n",
              "  <tbody>\n",
              "    <tr>\n",
              "      <th>802906</th>\n",
              "      <td>6</td>\n",
              "      <td>487</td>\n",
              "      <td>12198</td>\n",
              "      <td>2</td>\n",
              "      <td>30</td>\n",
              "      <td>6</td>\n",
              "      <td>5</td>\n",
              "      <td>t</td>\n",
              "      <td>r</td>\n",
              "      <td>n</td>\n",
              "      <td>f</td>\n",
              "      <td>q</td>\n",
              "      <td>t</td>\n",
              "      <td>d</td>\n",
              "      <td>1</td>\n",
              "      <td>1</td>\n",
              "      <td>0</td>\n",
              "      <td>0</td>\n",
              "      <td>0</td>\n",
              "      <td>0</td>\n",
              "      <td>0</td>\n",
              "      <td>0</td>\n",
              "      <td>0</td>\n",
              "      <td>0</td>\n",
              "      <td>0</td>\n",
              "      <td>v</td>\n",
              "      <td>1</td>\n",
              "      <td>0</td>\n",
              "      <td>0</td>\n",
              "      <td>0</td>\n",
              "      <td>0</td>\n",
              "      <td>0</td>\n",
              "      <td>0</td>\n",
              "      <td>0</td>\n",
              "      <td>0</td>\n",
              "      <td>0</td>\n",
              "      <td>0</td>\n",
              "      <td>0</td>\n",
              "      <td>3</td>\n",
              "    </tr>\n",
              "    <tr>\n",
              "      <th>28830</th>\n",
              "      <td>8</td>\n",
              "      <td>900</td>\n",
              "      <td>2812</td>\n",
              "      <td>2</td>\n",
              "      <td>10</td>\n",
              "      <td>8</td>\n",
              "      <td>7</td>\n",
              "      <td>o</td>\n",
              "      <td>r</td>\n",
              "      <td>n</td>\n",
              "      <td>x</td>\n",
              "      <td>q</td>\n",
              "      <td>s</td>\n",
              "      <td>d</td>\n",
              "      <td>0</td>\n",
              "      <td>1</td>\n",
              "      <td>0</td>\n",
              "      <td>0</td>\n",
              "      <td>0</td>\n",
              "      <td>0</td>\n",
              "      <td>0</td>\n",
              "      <td>0</td>\n",
              "      <td>0</td>\n",
              "      <td>0</td>\n",
              "      <td>0</td>\n",
              "      <td>v</td>\n",
              "      <td>1</td>\n",
              "      <td>0</td>\n",
              "      <td>0</td>\n",
              "      <td>0</td>\n",
              "      <td>0</td>\n",
              "      <td>0</td>\n",
              "      <td>0</td>\n",
              "      <td>0</td>\n",
              "      <td>0</td>\n",
              "      <td>0</td>\n",
              "      <td>0</td>\n",
              "      <td>0</td>\n",
              "      <td>2</td>\n",
              "    </tr>\n",
              "    <tr>\n",
              "      <th>94947</th>\n",
              "      <td>21</td>\n",
              "      <td>363</td>\n",
              "      <td>8973</td>\n",
              "      <td>2</td>\n",
              "      <td>10</td>\n",
              "      <td>5</td>\n",
              "      <td>5</td>\n",
              "      <td>t</td>\n",
              "      <td>r</td>\n",
              "      <td>n</td>\n",
              "      <td>f</td>\n",
              "      <td>x</td>\n",
              "      <td>t</td>\n",
              "      <td>d</td>\n",
              "      <td>0</td>\n",
              "      <td>1</td>\n",
              "      <td>0</td>\n",
              "      <td>0</td>\n",
              "      <td>0</td>\n",
              "      <td>0</td>\n",
              "      <td>0</td>\n",
              "      <td>0</td>\n",
              "      <td>0</td>\n",
              "      <td>0</td>\n",
              "      <td>0</td>\n",
              "      <td>v</td>\n",
              "      <td>1</td>\n",
              "      <td>0</td>\n",
              "      <td>0</td>\n",
              "      <td>0</td>\n",
              "      <td>0</td>\n",
              "      <td>0</td>\n",
              "      <td>0</td>\n",
              "      <td>0</td>\n",
              "      <td>0</td>\n",
              "      <td>0</td>\n",
              "      <td>0</td>\n",
              "      <td>0</td>\n",
              "      <td>3</td>\n",
              "    </tr>\n",
              "    <tr>\n",
              "      <th>590882</th>\n",
              "      <td>22</td>\n",
              "      <td>418</td>\n",
              "      <td>10694</td>\n",
              "      <td>2</td>\n",
              "      <td>10</td>\n",
              "      <td>6</td>\n",
              "      <td>5</td>\n",
              "      <td>t</td>\n",
              "      <td>r</td>\n",
              "      <td>n</td>\n",
              "      <td>f</td>\n",
              "      <td>x</td>\n",
              "      <td>s</td>\n",
              "      <td>d</td>\n",
              "      <td>0</td>\n",
              "      <td>1</td>\n",
              "      <td>0</td>\n",
              "      <td>0</td>\n",
              "      <td>0</td>\n",
              "      <td>0</td>\n",
              "      <td>1</td>\n",
              "      <td>1</td>\n",
              "      <td>0</td>\n",
              "      <td>0</td>\n",
              "      <td>0</td>\n",
              "      <td>v</td>\n",
              "      <td>1</td>\n",
              "      <td>0</td>\n",
              "      <td>0</td>\n",
              "      <td>0</td>\n",
              "      <td>0</td>\n",
              "      <td>0</td>\n",
              "      <td>0</td>\n",
              "      <td>0</td>\n",
              "      <td>0</td>\n",
              "      <td>0</td>\n",
              "      <td>0</td>\n",
              "      <td>0</td>\n",
              "      <td>2</td>\n",
              "    </tr>\n",
              "    <tr>\n",
              "      <th>201944</th>\n",
              "      <td>11</td>\n",
              "      <td>131</td>\n",
              "      <td>1488</td>\n",
              "      <td>3</td>\n",
              "      <td>30</td>\n",
              "      <td>8</td>\n",
              "      <td>9</td>\n",
              "      <td>t</td>\n",
              "      <td>r</td>\n",
              "      <td>n</td>\n",
              "      <td>f</td>\n",
              "      <td>x</td>\n",
              "      <td>s</td>\n",
              "      <td>d</td>\n",
              "      <td>1</td>\n",
              "      <td>0</td>\n",
              "      <td>0</td>\n",
              "      <td>0</td>\n",
              "      <td>0</td>\n",
              "      <td>0</td>\n",
              "      <td>0</td>\n",
              "      <td>0</td>\n",
              "      <td>0</td>\n",
              "      <td>0</td>\n",
              "      <td>0</td>\n",
              "      <td>v</td>\n",
              "      <td>1</td>\n",
              "      <td>0</td>\n",
              "      <td>0</td>\n",
              "      <td>0</td>\n",
              "      <td>0</td>\n",
              "      <td>0</td>\n",
              "      <td>0</td>\n",
              "      <td>0</td>\n",
              "      <td>0</td>\n",
              "      <td>0</td>\n",
              "      <td>0</td>\n",
              "      <td>0</td>\n",
              "      <td>3</td>\n",
              "    </tr>\n",
              "  </tbody>\n",
              "</table>\n",
              "</div>"
            ],
            "text/plain": [
              "             geo_level_1_id  ...  damage_grade\n",
              "building_id                  ...              \n",
              "802906                    6  ...             3\n",
              "28830                     8  ...             2\n",
              "94947                    21  ...             3\n",
              "590882                   22  ...             2\n",
              "201944                   11  ...             3\n",
              "\n",
              "[5 rows x 39 columns]"
            ]
          },
          "metadata": {
            "tags": []
          },
          "execution_count": 3
        }
      ]
    },
    {
      "cell_type": "code",
      "metadata": {
        "colab": {
          "base_uri": "https://localhost:8080/"
        },
        "id": "9899738c",
        "outputId": "b5fe4f0c-ccd3-40d6-de43-61a812443461"
      },
      "source": [
        "#Split the target and features:\n",
        "target = 'damage_grade'\n",
        "X = df.drop(columns=target)\n",
        "y = df[target]\n",
        "print(X.shape)\n",
        "y.shape"
      ],
      "id": "9899738c",
      "execution_count": null,
      "outputs": [
        {
          "output_type": "stream",
          "text": [
            "(260601, 38)\n"
          ],
          "name": "stdout"
        },
        {
          "output_type": "execute_result",
          "data": {
            "text/plain": [
              "(260601,)"
            ]
          },
          "metadata": {
            "tags": []
          },
          "execution_count": 4
        }
      ]
    },
    {
      "cell_type": "code",
      "metadata": {
        "id": "16c944c8"
      },
      "source": [
        "#Train/test split:\n",
        "X_train, X_val, y_train, y_val = train_test_split(X, y, test_size=0.2, random_state=42)"
      ],
      "id": "16c944c8",
      "execution_count": null,
      "outputs": []
    },
    {
      "cell_type": "code",
      "metadata": {
        "colab": {
          "base_uri": "https://localhost:8080/"
        },
        "id": "031a033b",
        "outputId": "f347c788-ee8c-4e61-9b81-eadaa8937439"
      },
      "source": [
        "#Baseline accuracy for classification problem is frequency of most common class:\n",
        "print('Baseline accuracy:', y_train.value_counts(normalize=True).max())\n",
        "#since there are three classes, the problem is unbalanced, \n",
        "#but I believe it's close enough to balanced to use our classification predictors"
      ],
      "id": "031a033b",
      "execution_count": null,
      "outputs": [
        {
          "output_type": "stream",
          "text": [
            "Baseline accuracy: 0.5697045280122793\n"
          ],
          "name": "stdout"
        }
      ]
    },
    {
      "cell_type": "code",
      "metadata": {
        "colab": {
          "base_uri": "https://localhost:8080/"
        },
        "id": "97945245",
        "outputId": "ea6b603c-d464-4291-be3c-93d8a74524e0"
      },
      "source": [
        "#Start with XGB classifier:\n",
        "model_xgb = make_pipeline(\n",
        "            OrdinalEncoder(),\n",
        "            XGBClassifier(random_state=42, n_jobs=-1)\n",
        ")\n",
        "model_xgb.fit(X_train, y_train)"
      ],
      "id": "97945245",
      "execution_count": null,
      "outputs": [
        {
          "output_type": "execute_result",
          "data": {
            "text/plain": [
              "Pipeline(memory=None,\n",
              "         steps=[('ordinalencoder',\n",
              "                 OrdinalEncoder(cols=['land_surface_condition',\n",
              "                                      'foundation_type', 'roof_type',\n",
              "                                      'ground_floor_type', 'other_floor_type',\n",
              "                                      'position', 'plan_configuration',\n",
              "                                      'legal_ownership_status'],\n",
              "                                drop_invariant=False, handle_missing='value',\n",
              "                                handle_unknown='value',\n",
              "                                mapping=[{'col': 'land_surface_condition',\n",
              "                                          'data_type': dtype('O'),...\n",
              "                 XGBClassifier(base_score=0.5, booster='gbtree',\n",
              "                               colsample_bylevel=1, colsample_bynode=1,\n",
              "                               colsample_bytree=1, gamma=0, learning_rate=0.1,\n",
              "                               max_delta_step=0, max_depth=3,\n",
              "                               min_child_weight=1, missing=None,\n",
              "                               n_estimators=100, n_jobs=-1, nthread=None,\n",
              "                               objective='multi:softprob', random_state=42,\n",
              "                               reg_alpha=0, reg_lambda=1, scale_pos_weight=1,\n",
              "                               seed=None, silent=None, subsample=1,\n",
              "                               verbosity=1))],\n",
              "         verbose=False)"
            ]
          },
          "metadata": {
            "tags": []
          },
          "execution_count": 7
        }
      ]
    },
    {
      "cell_type": "code",
      "metadata": {
        "colab": {
          "base_uri": "https://localhost:8080/"
        },
        "id": "ede83481",
        "outputId": "7d9e236a-e0bb-4340-fa2c-9a52354b1842"
      },
      "source": [
        "#Preliminary scores:\n",
        "print('XGB initial train score: ', model_xgb.score(X_train, y_train))\n",
        "print('XGB initial validation score: ', model_xgb.score(X_val, y_val))"
      ],
      "id": "ede83481",
      "execution_count": null,
      "outputs": [
        {
          "output_type": "stream",
          "text": [
            "XGB initial train score:  0.6756523407521106\n",
            "XGB initial validation score:  0.6746033268740047\n"
          ],
          "name": "stdout"
        }
      ]
    },
    {
      "cell_type": "code",
      "metadata": {
        "colab": {
          "base_uri": "https://localhost:8080/",
          "height": 1000
        },
        "id": "3fdcce2d",
        "outputId": "cc74ca55-1bc8-4177-8201-d073e10d6e25"
      },
      "source": [
        "#These scores are decent, already better than baseline, let's use permutation importance to see if we can improve the model:\n",
        "perm_imp = permutation_importance(model_xgb, X_val, y_val, random_state=42)\n",
        "data = {'imp_mean':perm_imp['importances_mean'],\n",
        "        'imp_std':perm_imp['importances_std']}\n",
        "df_perm = pd.DataFrame(data, index=X_val.columns).sort_values('imp_mean')\n",
        "df_perm"
      ],
      "id": "3fdcce2d",
      "execution_count": null,
      "outputs": [
        {
          "output_type": "execute_result",
          "data": {
            "text/html": [
              "<div>\n",
              "<style scoped>\n",
              "    .dataframe tbody tr th:only-of-type {\n",
              "        vertical-align: middle;\n",
              "    }\n",
              "\n",
              "    .dataframe tbody tr th {\n",
              "        vertical-align: top;\n",
              "    }\n",
              "\n",
              "    .dataframe thead th {\n",
              "        text-align: right;\n",
              "    }\n",
              "</style>\n",
              "<table border=\"1\" class=\"dataframe\">\n",
              "  <thead>\n",
              "    <tr style=\"text-align: right;\">\n",
              "      <th></th>\n",
              "      <th>imp_mean</th>\n",
              "      <th>imp_std</th>\n",
              "    </tr>\n",
              "  </thead>\n",
              "  <tbody>\n",
              "    <tr>\n",
              "      <th>height_percentage</th>\n",
              "      <td>-0.000077</td>\n",
              "      <td>0.000120</td>\n",
              "    </tr>\n",
              "    <tr>\n",
              "      <th>has_secondary_use_hotel</th>\n",
              "      <td>-0.000019</td>\n",
              "      <td>0.000000</td>\n",
              "    </tr>\n",
              "    <tr>\n",
              "      <th>has_superstructure_rc_non_engineered</th>\n",
              "      <td>0.000000</td>\n",
              "      <td>0.000000</td>\n",
              "    </tr>\n",
              "    <tr>\n",
              "      <th>has_secondary_use_use_police</th>\n",
              "      <td>0.000000</td>\n",
              "      <td>0.000000</td>\n",
              "    </tr>\n",
              "    <tr>\n",
              "      <th>legal_ownership_status</th>\n",
              "      <td>0.000000</td>\n",
              "      <td>0.000000</td>\n",
              "    </tr>\n",
              "    <tr>\n",
              "      <th>has_secondary_use_institution</th>\n",
              "      <td>0.000000</td>\n",
              "      <td>0.000000</td>\n",
              "    </tr>\n",
              "    <tr>\n",
              "      <th>has_secondary_use_other</th>\n",
              "      <td>0.000000</td>\n",
              "      <td>0.000000</td>\n",
              "    </tr>\n",
              "    <tr>\n",
              "      <th>has_secondary_use_industry</th>\n",
              "      <td>0.000000</td>\n",
              "      <td>0.000000</td>\n",
              "    </tr>\n",
              "    <tr>\n",
              "      <th>has_secondary_use_health_post</th>\n",
              "      <td>0.000000</td>\n",
              "      <td>0.000000</td>\n",
              "    </tr>\n",
              "    <tr>\n",
              "      <th>has_secondary_use_gov_office</th>\n",
              "      <td>0.000000</td>\n",
              "      <td>0.000000</td>\n",
              "    </tr>\n",
              "    <tr>\n",
              "      <th>has_secondary_use_school</th>\n",
              "      <td>0.000000</td>\n",
              "      <td>0.000000</td>\n",
              "    </tr>\n",
              "    <tr>\n",
              "      <th>has_secondary_use_rental</th>\n",
              "      <td>0.000027</td>\n",
              "      <td>0.000015</td>\n",
              "    </tr>\n",
              "    <tr>\n",
              "      <th>has_superstructure_bamboo</th>\n",
              "      <td>0.000027</td>\n",
              "      <td>0.000026</td>\n",
              "    </tr>\n",
              "    <tr>\n",
              "      <th>has_superstructure_other</th>\n",
              "      <td>0.000111</td>\n",
              "      <td>0.000014</td>\n",
              "    </tr>\n",
              "    <tr>\n",
              "      <th>has_superstructure_timber</th>\n",
              "      <td>0.000196</td>\n",
              "      <td>0.000142</td>\n",
              "    </tr>\n",
              "    <tr>\n",
              "      <th>land_surface_condition</th>\n",
              "      <td>0.000414</td>\n",
              "      <td>0.000344</td>\n",
              "    </tr>\n",
              "    <tr>\n",
              "      <th>has_superstructure_adobe_mud</th>\n",
              "      <td>0.000457</td>\n",
              "      <td>0.000168</td>\n",
              "    </tr>\n",
              "    <tr>\n",
              "      <th>has_secondary_use_agriculture</th>\n",
              "      <td>0.000464</td>\n",
              "      <td>0.000168</td>\n",
              "    </tr>\n",
              "    <tr>\n",
              "      <th>has_superstructure_cement_mortar_stone</th>\n",
              "      <td>0.000549</td>\n",
              "      <td>0.000167</td>\n",
              "    </tr>\n",
              "    <tr>\n",
              "      <th>geo_level_3_id</th>\n",
              "      <td>0.000560</td>\n",
              "      <td>0.000053</td>\n",
              "    </tr>\n",
              "    <tr>\n",
              "      <th>plan_configuration</th>\n",
              "      <td>0.000591</td>\n",
              "      <td>0.000285</td>\n",
              "    </tr>\n",
              "    <tr>\n",
              "      <th>has_superstructure_rc_engineered</th>\n",
              "      <td>0.000702</td>\n",
              "      <td>0.000113</td>\n",
              "    </tr>\n",
              "    <tr>\n",
              "      <th>has_superstructure_mud_mortar_brick</th>\n",
              "      <td>0.000978</td>\n",
              "      <td>0.000375</td>\n",
              "    </tr>\n",
              "    <tr>\n",
              "      <th>count_families</th>\n",
              "      <td>0.001040</td>\n",
              "      <td>0.000041</td>\n",
              "    </tr>\n",
              "    <tr>\n",
              "      <th>count_floors_pre_eq</th>\n",
              "      <td>0.001316</td>\n",
              "      <td>0.000485</td>\n",
              "    </tr>\n",
              "    <tr>\n",
              "      <th>has_superstructure_stone_flag</th>\n",
              "      <td>0.001458</td>\n",
              "      <td>0.000095</td>\n",
              "    </tr>\n",
              "    <tr>\n",
              "      <th>has_secondary_use</th>\n",
              "      <td>0.001485</td>\n",
              "      <td>0.000251</td>\n",
              "    </tr>\n",
              "    <tr>\n",
              "      <th>position</th>\n",
              "      <td>0.001489</td>\n",
              "      <td>0.000203</td>\n",
              "    </tr>\n",
              "    <tr>\n",
              "      <th>has_superstructure_cement_mortar_brick</th>\n",
              "      <td>0.003246</td>\n",
              "      <td>0.000249</td>\n",
              "    </tr>\n",
              "    <tr>\n",
              "      <th>ground_floor_type</th>\n",
              "      <td>0.003496</td>\n",
              "      <td>0.000190</td>\n",
              "    </tr>\n",
              "    <tr>\n",
              "      <th>area_percentage</th>\n",
              "      <td>0.003611</td>\n",
              "      <td>0.000422</td>\n",
              "    </tr>\n",
              "    <tr>\n",
              "      <th>roof_type</th>\n",
              "      <td>0.004758</td>\n",
              "      <td>0.000400</td>\n",
              "    </tr>\n",
              "    <tr>\n",
              "      <th>geo_level_2_id</th>\n",
              "      <td>0.008323</td>\n",
              "      <td>0.000226</td>\n",
              "    </tr>\n",
              "    <tr>\n",
              "      <th>other_floor_type</th>\n",
              "      <td>0.010061</td>\n",
              "      <td>0.000630</td>\n",
              "    </tr>\n",
              "    <tr>\n",
              "      <th>age</th>\n",
              "      <td>0.010176</td>\n",
              "      <td>0.000431</td>\n",
              "    </tr>\n",
              "    <tr>\n",
              "      <th>has_superstructure_mud_mortar_stone</th>\n",
              "      <td>0.012905</td>\n",
              "      <td>0.000672</td>\n",
              "    </tr>\n",
              "    <tr>\n",
              "      <th>foundation_type</th>\n",
              "      <td>0.015944</td>\n",
              "      <td>0.000546</td>\n",
              "    </tr>\n",
              "    <tr>\n",
              "      <th>geo_level_1_id</th>\n",
              "      <td>0.116594</td>\n",
              "      <td>0.001164</td>\n",
              "    </tr>\n",
              "  </tbody>\n",
              "</table>\n",
              "</div>"
            ],
            "text/plain": [
              "                                        imp_mean   imp_std\n",
              "height_percentage                      -0.000077  0.000120\n",
              "has_secondary_use_hotel                -0.000019  0.000000\n",
              "has_superstructure_rc_non_engineered    0.000000  0.000000\n",
              "has_secondary_use_use_police            0.000000  0.000000\n",
              "legal_ownership_status                  0.000000  0.000000\n",
              "has_secondary_use_institution           0.000000  0.000000\n",
              "has_secondary_use_other                 0.000000  0.000000\n",
              "has_secondary_use_industry              0.000000  0.000000\n",
              "has_secondary_use_health_post           0.000000  0.000000\n",
              "has_secondary_use_gov_office            0.000000  0.000000\n",
              "has_secondary_use_school                0.000000  0.000000\n",
              "has_secondary_use_rental                0.000027  0.000015\n",
              "has_superstructure_bamboo               0.000027  0.000026\n",
              "has_superstructure_other                0.000111  0.000014\n",
              "has_superstructure_timber               0.000196  0.000142\n",
              "land_surface_condition                  0.000414  0.000344\n",
              "has_superstructure_adobe_mud            0.000457  0.000168\n",
              "has_secondary_use_agriculture           0.000464  0.000168\n",
              "has_superstructure_cement_mortar_stone  0.000549  0.000167\n",
              "geo_level_3_id                          0.000560  0.000053\n",
              "plan_configuration                      0.000591  0.000285\n",
              "has_superstructure_rc_engineered        0.000702  0.000113\n",
              "has_superstructure_mud_mortar_brick     0.000978  0.000375\n",
              "count_families                          0.001040  0.000041\n",
              "count_floors_pre_eq                     0.001316  0.000485\n",
              "has_superstructure_stone_flag           0.001458  0.000095\n",
              "has_secondary_use                       0.001485  0.000251\n",
              "position                                0.001489  0.000203\n",
              "has_superstructure_cement_mortar_brick  0.003246  0.000249\n",
              "ground_floor_type                       0.003496  0.000190\n",
              "area_percentage                         0.003611  0.000422\n",
              "roof_type                               0.004758  0.000400\n",
              "geo_level_2_id                          0.008323  0.000226\n",
              "other_floor_type                        0.010061  0.000630\n",
              "age                                     0.010176  0.000431\n",
              "has_superstructure_mud_mortar_stone     0.012905  0.000672\n",
              "foundation_type                         0.015944  0.000546\n",
              "geo_level_1_id                          0.116594  0.001164"
            ]
          },
          "metadata": {
            "tags": []
          },
          "execution_count": 9
        }
      ]
    },
    {
      "cell_type": "code",
      "metadata": {
        "colab": {
          "base_uri": "https://localhost:8080/"
        },
        "id": "e899105e",
        "outputId": "1a755dad-0a84-4383-ea60-e5836f322be8"
      },
      "source": [
        "#Let's remove the columns that have 0 or less importance mean.\n",
        "cols_to_remove = df_perm[df_perm['imp_mean'] <= 0].index\n",
        "model_xgb_ct = make_pipeline(\n",
        "            OrdinalEncoder(),\n",
        "            XGBClassifier(random_state=42, n_jobs=-1)\n",
        ")\n",
        "model_xgb_ct.fit(X_train.drop(columns=cols_to_remove), y_train)"
      ],
      "id": "e899105e",
      "execution_count": null,
      "outputs": [
        {
          "output_type": "execute_result",
          "data": {
            "text/plain": [
              "Pipeline(memory=None,\n",
              "         steps=[('ordinalencoder',\n",
              "                 OrdinalEncoder(cols=['land_surface_condition',\n",
              "                                      'foundation_type', 'roof_type',\n",
              "                                      'ground_floor_type', 'other_floor_type',\n",
              "                                      'position', 'plan_configuration'],\n",
              "                                drop_invariant=False, handle_missing='value',\n",
              "                                handle_unknown='value',\n",
              "                                mapping=[{'col': 'land_surface_condition',\n",
              "                                          'data_type': dtype('O'),\n",
              "                                          'mapping': n      1\n",
              "o      2\n",
              "t      3\n",
              "NaN   -2\n",
              "dtyp...\n",
              "                 XGBClassifier(base_score=0.5, booster='gbtree',\n",
              "                               colsample_bylevel=1, colsample_bynode=1,\n",
              "                               colsample_bytree=1, gamma=0, learning_rate=0.1,\n",
              "                               max_delta_step=0, max_depth=3,\n",
              "                               min_child_weight=1, missing=None,\n",
              "                               n_estimators=100, n_jobs=-1, nthread=None,\n",
              "                               objective='multi:softprob', random_state=42,\n",
              "                               reg_alpha=0, reg_lambda=1, scale_pos_weight=1,\n",
              "                               seed=None, silent=None, subsample=1,\n",
              "                               verbosity=1))],\n",
              "         verbose=False)"
            ]
          },
          "metadata": {
            "tags": []
          },
          "execution_count": 10
        }
      ]
    },
    {
      "cell_type": "code",
      "metadata": {
        "colab": {
          "base_uri": "https://localhost:8080/"
        },
        "id": "7fa6f364",
        "outputId": "c76e2253-c249-4449-9250-88b8f4142726"
      },
      "source": [
        "#Let's see if we get a better score without these columns:\n",
        "print('XGB columns removed train score: ', model_xgb_ct.score(X_train.drop(columns=cols_to_remove), y_train))\n",
        "print('XGB columns removed validation score: ', model_xgb_ct.score(X_val.drop(columns=cols_to_remove), y_val))"
      ],
      "id": "7fa6f364",
      "execution_count": null,
      "outputs": [
        {
          "output_type": "stream",
          "text": [
            "XGB columns removed train score:  0.6749856101304682\n",
            "XGB columns removed validation score:  0.6742387905067055\n"
          ],
          "name": "stdout"
        }
      ]
    },
    {
      "cell_type": "code",
      "metadata": {
        "colab": {
          "base_uri": "https://localhost:8080/"
        },
        "id": "db0084f4",
        "outputId": "c3e9235a-b6e3-4beb-bdb5-1c9f10fc643c"
      },
      "source": [
        "#There was a slight improvement in our validation score, so let's hyperparameter tune and see if we can get an even better score\n",
        "clf = make_pipeline(\n",
        "            OrdinalEncoder(),\n",
        "            XGBClassifier(random_state=42, n_jobs=-1)\n",
        ")\n",
        "params_grid = {\n",
        "    'xgbclassifier__learning_rate':np.arange(0.1, 1.0, 0.1),\n",
        "    'xgbclassifier__n_estimators':range(50, 150, 10)\n",
        "}\n",
        "\n",
        "model = RandomizedSearchCV(\n",
        "    clf, \n",
        "    param_distributions=params_grid,\n",
        "    n_jobs=-1,\n",
        "    n_iter=30,\n",
        "    cv=5,\n",
        "    verbose=1\n",
        "    )\n",
        "model.fit(X_train.drop(columns=cols_to_remove), y_train)"
      ],
      "id": "db0084f4",
      "execution_count": null,
      "outputs": [
        {
          "output_type": "stream",
          "text": [
            "Fitting 5 folds for each of 30 candidates, totalling 150 fits\n"
          ],
          "name": "stdout"
        },
        {
          "output_type": "stream",
          "text": [
            "[Parallel(n_jobs=-1)]: Using backend LokyBackend with 2 concurrent workers.\n",
            "[Parallel(n_jobs=-1)]: Done  46 tasks      | elapsed: 23.4min\n",
            "[Parallel(n_jobs=-1)]: Done 150 out of 150 | elapsed: 70.1min finished\n"
          ],
          "name": "stderr"
        },
        {
          "output_type": "execute_result",
          "data": {
            "text/plain": [
              "RandomizedSearchCV(cv=5, error_score=nan,\n",
              "                   estimator=Pipeline(memory=None,\n",
              "                                      steps=[('ordinalencoder',\n",
              "                                              OrdinalEncoder(cols=None,\n",
              "                                                             drop_invariant=False,\n",
              "                                                             handle_missing='value',\n",
              "                                                             handle_unknown='value',\n",
              "                                                             mapping=None,\n",
              "                                                             return_df=True,\n",
              "                                                             verbose=0)),\n",
              "                                             ('xgbclassifier',\n",
              "                                              XGBClassifier(base_score=0.5,\n",
              "                                                            booster='gbtree',\n",
              "                                                            colsample_bylevel=1,\n",
              "                                                            colsample_bynode=1,\n",
              "                                                            colsample_bytree=1,\n",
              "                                                            g...\n",
              "                                                            scale_pos_weight=1,\n",
              "                                                            seed=None,\n",
              "                                                            silent=None,\n",
              "                                                            subsample=1,\n",
              "                                                            verbosity=1))],\n",
              "                                      verbose=False),\n",
              "                   iid='deprecated', n_iter=30, n_jobs=-1,\n",
              "                   param_distributions={'xgbclassifier__learning_rate': array([0.1, 0.2, 0.3, 0.4, 0.5, 0.6, 0.7, 0.8, 0.9]),\n",
              "                                        'xgbclassifier__n_estimators': range(50, 150, 10)},\n",
              "                   pre_dispatch='2*n_jobs', random_state=None, refit=True,\n",
              "                   return_train_score=False, scoring=None, verbose=1)"
            ]
          },
          "metadata": {
            "tags": []
          },
          "execution_count": 12
        }
      ]
    },
    {
      "cell_type": "code",
      "metadata": {
        "colab": {
          "base_uri": "https://localhost:8080/"
        },
        "id": "11058c6e",
        "outputId": "12b6311d-a04d-42fe-f469-6731be05783e"
      },
      "source": [
        "#Let's get our best score:\n",
        "model_be = model.best_estimator_\n",
        "print('XGB hyperparameter tuned train score: ', model_be.score(X_train.drop(columns=cols_to_remove), y_train))\n",
        "print('XGB hyperparameter tuned validation score: ', model_be.score(X_val.drop(columns=cols_to_remove), y_val))\n",
        "model.best_params_"
      ],
      "id": "11058c6e",
      "execution_count": null,
      "outputs": [
        {
          "output_type": "stream",
          "text": [
            "XGB hyperparameter tuned train score:  0.7304009976976209\n",
            "XGB hyperparameter tuned validation score:  0.7236238752134456\n"
          ],
          "name": "stdout"
        },
        {
          "output_type": "execute_result",
          "data": {
            "text/plain": [
              "{'xgbclassifier__learning_rate': 0.9, 'xgbclassifier__n_estimators': 120}"
            ]
          },
          "metadata": {
            "tags": []
          },
          "execution_count": 13
        }
      ]
    },
    {
      "cell_type": "code",
      "metadata": {
        "id": "34c72249"
      },
      "source": [
        "#This is a significant improvement, but I think there's more to be gained from a different model.\n",
        "#For now, let's use shap.waterfall_plot, but first we have to encode the data:\n",
        "cols_to_encode = X.select_dtypes(include='object').columns\n",
        "X_c = X.copy()\n",
        "le = LabelEncoder()\n",
        "for col in cols_to_encode:\n",
        "    X_c[col] = le.fit_transform(X_c[col])\n",
        "\n",
        "X_c_train = X_c.loc[X_train.index]\n",
        "X_c_val = X_c.loc[X_val.index]"
      ],
      "id": "34c72249",
      "execution_count": null,
      "outputs": []
    },
    {
      "cell_type": "code",
      "metadata": {
        "colab": {
          "base_uri": "https://localhost:8080/"
        },
        "id": "62ff6e6e",
        "outputId": "fe577794-2ea0-4142-b13f-e2a9d9511698"
      },
      "source": [
        "#Next we need to re-fit the model without the pipeline, using the same hyperparameters:\n",
        "model_np = XGBClassifier(n_estimators=140, learning_rate=0.5, random_state=42, n_jobs=-1)\n",
        "model_np.fit(X_c_train, y_train)"
      ],
      "id": "62ff6e6e",
      "execution_count": null,
      "outputs": [
        {
          "output_type": "execute_result",
          "data": {
            "text/plain": [
              "XGBClassifier(base_score=0.5, booster='gbtree', colsample_bylevel=1,\n",
              "              colsample_bynode=1, colsample_bytree=1, gamma=0,\n",
              "              learning_rate=0.5, max_delta_step=0, max_depth=3,\n",
              "              min_child_weight=1, missing=None, n_estimators=140, n_jobs=-1,\n",
              "              nthread=None, objective='multi:softprob', random_state=42,\n",
              "              reg_alpha=0, reg_lambda=1, scale_pos_weight=1, seed=None,\n",
              "              silent=None, subsample=1, verbosity=1)"
            ]
          },
          "metadata": {
            "tags": []
          },
          "execution_count": 15
        }
      ]
    },
    {
      "cell_type": "code",
      "metadata": {
        "id": "f633be31"
      },
      "source": [
        "#Last, we need shap.Explainer:\n",
        "explainer = shap.Explainer(model_np)\n",
        "shap_values = explainer(X_c_val)"
      ],
      "id": "f633be31",
      "execution_count": null,
      "outputs": []
    },
    {
      "cell_type": "code",
      "metadata": {
        "colab": {
          "base_uri": "https://localhost:8080/",
          "height": 253
        },
        "id": "1db1f7d6",
        "outputId": "14d072f6-2f90-4739-ed4a-d50a69f83b8a"
      },
      "source": [
        "#Finally, call shap.waterfall_plot\n",
        "row = 0\n",
        "shap.waterfall_plot(shap.Explanation(values=shap_values[0][row].base_values, \n",
        "                                     base_values=explainer.expected_value[0],\n",
        "                                     data=X_c_val.iloc[row],  \n",
        "                                     feature_names=X_c_val.columns.tolist()))"
      ],
      "id": "1db1f7d6",
      "execution_count": null,
      "outputs": [
        {
          "output_type": "display_data",
          "data": {
            "image/png": "[encoded data removed]",
            "text/plain": [
              "<Figure size 576x216 with 3 Axes>"
            ]
          },
          "metadata": {
            "tags": []
          }
        }
      ]
    },
    {
      "cell_type": "code",
      "metadata": {
        "colab": {
          "base_uri": "https://localhost:8080/"
        },
        "id": "7eb51c81",
        "outputId": "aea41d41-440b-47b8-a093-b1bfc9436086"
      },
      "source": [
        "#Let's try a random forest classifier instead:\n",
        "model_rf = make_pipeline(\n",
        "    OrdinalEncoder(),\n",
        "    RandomForestClassifier(random_state=42, n_jobs=-1)\n",
        ")\n",
        "\n",
        "model_rf.fit(X_train, y_train)"
      ],
      "id": "7eb51c81",
      "execution_count": null,
      "outputs": [
        {
          "output_type": "execute_result",
          "data": {
            "text/plain": [
              "Pipeline(memory=None,\n",
              "         steps=[('ordinalencoder',\n",
              "                 OrdinalEncoder(cols=['land_surface_condition',\n",
              "                                      'foundation_type', 'roof_type',\n",
              "                                      'ground_floor_type', 'other_floor_type',\n",
              "                                      'position', 'plan_configuration',\n",
              "                                      'legal_ownership_status'],\n",
              "                                drop_invariant=False, handle_missing='value',\n",
              "                                handle_unknown='value',\n",
              "                                mapping=[{'col': 'land_surface_condition',\n",
              "                                          'data_type': dtype('O'),...\n",
              "                 RandomForestClassifier(bootstrap=True, ccp_alpha=0.0,\n",
              "                                        class_weight=None, criterion='gini',\n",
              "                                        max_depth=None, max_features='auto',\n",
              "                                        max_leaf_nodes=None, max_samples=None,\n",
              "                                        min_impurity_decrease=0.0,\n",
              "                                        min_impurity_split=None,\n",
              "                                        min_samples_leaf=1, min_samples_split=2,\n",
              "                                        min_weight_fraction_leaf=0.0,\n",
              "                                        n_estimators=100, n_jobs=-1,\n",
              "                                        oob_score=False, random_state=42,\n",
              "                                        verbose=0, warm_start=False))],\n",
              "         verbose=False)"
            ]
          },
          "metadata": {
            "tags": []
          },
          "execution_count": 18
        }
      ]
    },
    {
      "cell_type": "code",
      "metadata": {
        "colab": {
          "base_uri": "https://localhost:8080/"
        },
        "id": "dacc54b1",
        "outputId": "4023293c-7524-4bee-ebff-2f94b7996bc5"
      },
      "source": [
        "#Scores:\n",
        "print('RF Training score before tuning: ', model_rf.score(X_train, y_train))\n",
        "print('RF Validation score before tuning: ', model_rf.score(X_val, y_val))"
      ],
      "id": "dacc54b1",
      "execution_count": null,
      "outputs": [
        {
          "output_type": "stream",
          "text": [
            "RF Training score before tuning:  0.9867709132770529\n",
            "RF Validation score before tuning:  0.7200168837896433\n"
          ],
          "name": "stdout"
        }
      ]
    },
    {
      "cell_type": "code",
      "metadata": {
        "colab": {
          "base_uri": "https://localhost:8080/",
          "height": 1000
        },
        "id": "83258e3d",
        "outputId": "e5d967a4-958a-4797-f6f3-e27012008a8c"
      },
      "source": [
        "#As expected, there's a lot of overfitting, let's try to get the permutation importance:\n",
        "perm_imp = permutation_importance(model_rf, X_val, y_val, random_state=42)\n",
        "data = {'imp_mean':perm_imp['importances_mean'],\n",
        "        'imp_std':perm_imp['importances_std']}\n",
        "df_perm = pd.DataFrame(data, index=X_val.columns).sort_values('imp_mean')\n",
        "df_perm"
      ],
      "id": "83258e3d",
      "execution_count": null,
      "outputs": [
        {
          "output_type": "execute_result",
          "data": {
            "text/html": [
              "<div>\n",
              "<style scoped>\n",
              "    .dataframe tbody tr th:only-of-type {\n",
              "        vertical-align: middle;\n",
              "    }\n",
              "\n",
              "    .dataframe tbody tr th {\n",
              "        vertical-align: top;\n",
              "    }\n",
              "\n",
              "    .dataframe thead th {\n",
              "        text-align: right;\n",
              "    }\n",
              "</style>\n",
              "<table border=\"1\" class=\"dataframe\">\n",
              "  <thead>\n",
              "    <tr style=\"text-align: right;\">\n",
              "      <th></th>\n",
              "      <th>imp_mean</th>\n",
              "      <th>imp_std</th>\n",
              "    </tr>\n",
              "  </thead>\n",
              "  <tbody>\n",
              "    <tr>\n",
              "      <th>has_secondary_use_rental</th>\n",
              "      <td>-0.000096</td>\n",
              "      <td>0.000050</td>\n",
              "    </tr>\n",
              "    <tr>\n",
              "      <th>has_secondary_use_institution</th>\n",
              "      <td>-0.000023</td>\n",
              "      <td>0.000008</td>\n",
              "    </tr>\n",
              "    <tr>\n",
              "      <th>has_secondary_use_industry</th>\n",
              "      <td>-0.000023</td>\n",
              "      <td>0.000014</td>\n",
              "    </tr>\n",
              "    <tr>\n",
              "      <th>has_secondary_use_health_post</th>\n",
              "      <td>0.000000</td>\n",
              "      <td>0.000000</td>\n",
              "    </tr>\n",
              "    <tr>\n",
              "      <th>has_secondary_use_use_police</th>\n",
              "      <td>0.000000</td>\n",
              "      <td>0.000000</td>\n",
              "    </tr>\n",
              "    <tr>\n",
              "      <th>has_secondary_use_school</th>\n",
              "      <td>0.000004</td>\n",
              "      <td>0.000008</td>\n",
              "    </tr>\n",
              "    <tr>\n",
              "      <th>has_secondary_use_gov_office</th>\n",
              "      <td>0.000019</td>\n",
              "      <td>0.000000</td>\n",
              "    </tr>\n",
              "    <tr>\n",
              "      <th>has_secondary_use_hotel</th>\n",
              "      <td>0.000042</td>\n",
              "      <td>0.000133</td>\n",
              "    </tr>\n",
              "    <tr>\n",
              "      <th>has_secondary_use_other</th>\n",
              "      <td>0.000138</td>\n",
              "      <td>0.000037</td>\n",
              "    </tr>\n",
              "    <tr>\n",
              "      <th>has_superstructure_rc_non_engineered</th>\n",
              "      <td>0.000295</td>\n",
              "      <td>0.000408</td>\n",
              "    </tr>\n",
              "    <tr>\n",
              "      <th>has_secondary_use_agriculture</th>\n",
              "      <td>0.000326</td>\n",
              "      <td>0.000319</td>\n",
              "    </tr>\n",
              "    <tr>\n",
              "      <th>has_superstructure_cement_mortar_stone</th>\n",
              "      <td>0.000357</td>\n",
              "      <td>0.000158</td>\n",
              "    </tr>\n",
              "    <tr>\n",
              "      <th>plan_configuration</th>\n",
              "      <td>0.000441</td>\n",
              "      <td>0.000176</td>\n",
              "    </tr>\n",
              "    <tr>\n",
              "      <th>has_superstructure_other</th>\n",
              "      <td>0.000549</td>\n",
              "      <td>0.000106</td>\n",
              "    </tr>\n",
              "    <tr>\n",
              "      <th>has_superstructure_rc_engineered</th>\n",
              "      <td>0.000629</td>\n",
              "      <td>0.000135</td>\n",
              "    </tr>\n",
              "    <tr>\n",
              "      <th>legal_ownership_status</th>\n",
              "      <td>0.000898</td>\n",
              "      <td>0.000188</td>\n",
              "    </tr>\n",
              "    <tr>\n",
              "      <th>has_superstructure_stone_flag</th>\n",
              "      <td>0.001232</td>\n",
              "      <td>0.000379</td>\n",
              "    </tr>\n",
              "    <tr>\n",
              "      <th>has_superstructure_mud_mortar_brick</th>\n",
              "      <td>0.001255</td>\n",
              "      <td>0.000240</td>\n",
              "    </tr>\n",
              "    <tr>\n",
              "      <th>has_secondary_use</th>\n",
              "      <td>0.001615</td>\n",
              "      <td>0.000313</td>\n",
              "    </tr>\n",
              "    <tr>\n",
              "      <th>land_surface_condition</th>\n",
              "      <td>0.001638</td>\n",
              "      <td>0.000249</td>\n",
              "    </tr>\n",
              "    <tr>\n",
              "      <th>has_superstructure_adobe_mud</th>\n",
              "      <td>0.001734</td>\n",
              "      <td>0.000158</td>\n",
              "    </tr>\n",
              "    <tr>\n",
              "      <th>count_families</th>\n",
              "      <td>0.002371</td>\n",
              "      <td>0.000254</td>\n",
              "    </tr>\n",
              "    <tr>\n",
              "      <th>has_superstructure_bamboo</th>\n",
              "      <td>0.003292</td>\n",
              "      <td>0.000419</td>\n",
              "    </tr>\n",
              "    <tr>\n",
              "      <th>position</th>\n",
              "      <td>0.003661</td>\n",
              "      <td>0.000372</td>\n",
              "    </tr>\n",
              "    <tr>\n",
              "      <th>ground_floor_type</th>\n",
              "      <td>0.004904</td>\n",
              "      <td>0.000459</td>\n",
              "    </tr>\n",
              "    <tr>\n",
              "      <th>has_superstructure_cement_mortar_brick</th>\n",
              "      <td>0.005894</td>\n",
              "      <td>0.000489</td>\n",
              "    </tr>\n",
              "    <tr>\n",
              "      <th>count_floors_pre_eq</th>\n",
              "      <td>0.007356</td>\n",
              "      <td>0.000519</td>\n",
              "    </tr>\n",
              "    <tr>\n",
              "      <th>height_percentage</th>\n",
              "      <td>0.008457</td>\n",
              "      <td>0.000941</td>\n",
              "    </tr>\n",
              "    <tr>\n",
              "      <th>area_percentage</th>\n",
              "      <td>0.009098</td>\n",
              "      <td>0.000812</td>\n",
              "    </tr>\n",
              "    <tr>\n",
              "      <th>age</th>\n",
              "      <td>0.009624</td>\n",
              "      <td>0.000819</td>\n",
              "    </tr>\n",
              "    <tr>\n",
              "      <th>roof_type</th>\n",
              "      <td>0.010007</td>\n",
              "      <td>0.000664</td>\n",
              "    </tr>\n",
              "    <tr>\n",
              "      <th>other_floor_type</th>\n",
              "      <td>0.010997</td>\n",
              "      <td>0.000865</td>\n",
              "    </tr>\n",
              "    <tr>\n",
              "      <th>has_superstructure_timber</th>\n",
              "      <td>0.012271</td>\n",
              "      <td>0.001022</td>\n",
              "    </tr>\n",
              "    <tr>\n",
              "      <th>geo_level_3_id</th>\n",
              "      <td>0.015525</td>\n",
              "      <td>0.000807</td>\n",
              "    </tr>\n",
              "    <tr>\n",
              "      <th>foundation_type</th>\n",
              "      <td>0.015614</td>\n",
              "      <td>0.000594</td>\n",
              "    </tr>\n",
              "    <tr>\n",
              "      <th>has_superstructure_mud_mortar_stone</th>\n",
              "      <td>0.021001</td>\n",
              "      <td>0.001149</td>\n",
              "    </tr>\n",
              "    <tr>\n",
              "      <th>geo_level_2_id</th>\n",
              "      <td>0.034194</td>\n",
              "      <td>0.000787</td>\n",
              "    </tr>\n",
              "    <tr>\n",
              "      <th>geo_level_1_id</th>\n",
              "      <td>0.134725</td>\n",
              "      <td>0.000946</td>\n",
              "    </tr>\n",
              "  </tbody>\n",
              "</table>\n",
              "</div>"
            ],
            "text/plain": [
              "                                        imp_mean   imp_std\n",
              "has_secondary_use_rental               -0.000096  0.000050\n",
              "has_secondary_use_institution          -0.000023  0.000008\n",
              "has_secondary_use_industry             -0.000023  0.000014\n",
              "has_secondary_use_health_post           0.000000  0.000000\n",
              "has_secondary_use_use_police            0.000000  0.000000\n",
              "has_secondary_use_school                0.000004  0.000008\n",
              "has_secondary_use_gov_office            0.000019  0.000000\n",
              "has_secondary_use_hotel                 0.000042  0.000133\n",
              "has_secondary_use_other                 0.000138  0.000037\n",
              "has_superstructure_rc_non_engineered    0.000295  0.000408\n",
              "has_secondary_use_agriculture           0.000326  0.000319\n",
              "has_superstructure_cement_mortar_stone  0.000357  0.000158\n",
              "plan_configuration                      0.000441  0.000176\n",
              "has_superstructure_other                0.000549  0.000106\n",
              "has_superstructure_rc_engineered        0.000629  0.000135\n",
              "legal_ownership_status                  0.000898  0.000188\n",
              "has_superstructure_stone_flag           0.001232  0.000379\n",
              "has_superstructure_mud_mortar_brick     0.001255  0.000240\n",
              "has_secondary_use                       0.001615  0.000313\n",
              "land_surface_condition                  0.001638  0.000249\n",
              "has_superstructure_adobe_mud            0.001734  0.000158\n",
              "count_families                          0.002371  0.000254\n",
              "has_superstructure_bamboo               0.003292  0.000419\n",
              "position                                0.003661  0.000372\n",
              "ground_floor_type                       0.004904  0.000459\n",
              "has_superstructure_cement_mortar_brick  0.005894  0.000489\n",
              "count_floors_pre_eq                     0.007356  0.000519\n",
              "height_percentage                       0.008457  0.000941\n",
              "area_percentage                         0.009098  0.000812\n",
              "age                                     0.009624  0.000819\n",
              "roof_type                               0.010007  0.000664\n",
              "other_floor_type                        0.010997  0.000865\n",
              "has_superstructure_timber               0.012271  0.001022\n",
              "geo_level_3_id                          0.015525  0.000807\n",
              "foundation_type                         0.015614  0.000594\n",
              "has_superstructure_mud_mortar_stone     0.021001  0.001149\n",
              "geo_level_2_id                          0.034194  0.000787\n",
              "geo_level_1_id                          0.134725  0.000946"
            ]
          },
          "metadata": {
            "tags": []
          },
          "execution_count": 20
        }
      ]
    },
    {
      "cell_type": "code",
      "metadata": {
        "colab": {
          "base_uri": "https://localhost:8080/"
        },
        "id": "ad8a6f6c",
        "outputId": "19eb5a0f-5f62-407c-db27-57f9a6b71739"
      },
      "source": [
        "#Remove the parameters with low importance:\n",
        "cols_to_remove = df_perm[df_perm['imp_mean'] <= 0].index\n",
        "model_rfdc = make_pipeline(\n",
        "    OrdinalEncoder(),\n",
        "    RandomForestClassifier(random_state=42, n_jobs=-1)\n",
        ")\n",
        "model_rfdc.fit(X_train.drop(columns=cols_to_remove), y_train)"
      ],
      "id": "ad8a6f6c",
      "execution_count": null,
      "outputs": [
        {
          "output_type": "execute_result",
          "data": {
            "text/plain": [
              "Pipeline(memory=None,\n",
              "         steps=[('ordinalencoder',\n",
              "                 OrdinalEncoder(cols=['land_surface_condition',\n",
              "                                      'foundation_type', 'roof_type',\n",
              "                                      'ground_floor_type', 'other_floor_type',\n",
              "                                      'position', 'plan_configuration',\n",
              "                                      'legal_ownership_status'],\n",
              "                                drop_invariant=False, handle_missing='value',\n",
              "                                handle_unknown='value',\n",
              "                                mapping=[{'col': 'land_surface_condition',\n",
              "                                          'data_type': dtype('O'),...\n",
              "                 RandomForestClassifier(bootstrap=True, ccp_alpha=0.0,\n",
              "                                        class_weight=None, criterion='gini',\n",
              "                                        max_depth=None, max_features='auto',\n",
              "                                        max_leaf_nodes=None, max_samples=None,\n",
              "                                        min_impurity_decrease=0.0,\n",
              "                                        min_impurity_split=None,\n",
              "                                        min_samples_leaf=1, min_samples_split=2,\n",
              "                                        min_weight_fraction_leaf=0.0,\n",
              "                                        n_estimators=100, n_jobs=-1,\n",
              "                                        oob_score=False, random_state=42,\n",
              "                                        verbose=0, warm_start=False))],\n",
              "         verbose=False)"
            ]
          },
          "metadata": {
            "tags": []
          },
          "execution_count": 21
        }
      ]
    },
    {
      "cell_type": "code",
      "metadata": {
        "colab": {
          "base_uri": "https://localhost:8080/"
        },
        "id": "04f8a721",
        "outputId": "823301cc-d737-403b-bbca-86ac4484b2f6"
      },
      "source": [
        "#Let's see the scores:\n",
        "print('RF dropped low importance train score: ', model_rfdc.score(X_train.drop(columns=cols_to_remove), y_train))\n",
        "print('RF dropped low importance validation score: ', model_rfdc.score(X_val.drop(columns=cols_to_remove), y_val))"
      ],
      "id": "04f8a721",
      "execution_count": null,
      "outputs": [
        {
          "output_type": "stream",
          "text": [
            "RF dropped low importance train score:  0.9867757099002302\n",
            "RF dropped low importance validation score:  0.7179639684580111\n"
          ],
          "name": "stdout"
        }
      ]
    },
    {
      "cell_type": "code",
      "metadata": {
        "colab": {
          "base_uri": "https://localhost:8080/"
        },
        "id": "94308569",
        "outputId": "5294223e-6f6b-428f-82ea-fef0ed0f7806"
      },
      "source": [
        "#This model does worse on validation after the columns are removed so let's keep them in.\n",
        "#Next let's look at hyperparameter tuning:\n",
        "params_grid = {\n",
        "    'randomforestclassifier__max_depth':range(15, 35, 2),\n",
        "    'randomforestclassifier__n_estimators':range(50, 150, 25)\n",
        "}\n",
        "\n",
        "model = RandomizedSearchCV(\n",
        "    model_rf, \n",
        "    param_distributions=params_grid,\n",
        "    n_jobs=-1,\n",
        "    n_iter=30,\n",
        "    cv=5,\n",
        "    verbose=1\n",
        "    )\n",
        "model.fit(X, y)"
      ],
      "id": "94308569",
      "execution_count": null,
      "outputs": [
        {
          "output_type": "stream",
          "text": [
            "Fitting 5 folds for each of 30 candidates, totalling 150 fits\n"
          ],
          "name": "stdout"
        },
        {
          "output_type": "stream",
          "text": [
            "[Parallel(n_jobs=-1)]: Using backend LokyBackend with 2 concurrent workers.\n",
            "A worker stopped while some jobs were given to the executor. This can be caused by a too short worker timeout or by a memory leak.\n",
            "[Parallel(n_jobs=-1)]: Done  46 tasks      | elapsed: 23.3min\n",
            "[Parallel(n_jobs=-1)]: Done 150 out of 150 | elapsed: 73.8min finished\n",
            "is_categorical is deprecated and will be removed in a future version.  Use is_categorical_dtype instead\n"
          ],
          "name": "stderr"
        },
        {
          "output_type": "execute_result",
          "data": {
            "text/plain": [
              "RandomizedSearchCV(cv=5, error_score=nan,\n",
              "                   estimator=Pipeline(memory=None,\n",
              "                                      steps=[('ordinalencoder',\n",
              "                                              OrdinalEncoder(cols=['land_surface_condition',\n",
              "                                                                   'foundation_type',\n",
              "                                                                   'roof_type',\n",
              "                                                                   'ground_floor_type',\n",
              "                                                                   'other_floor_type',\n",
              "                                                                   'position',\n",
              "                                                                   'plan_configuration',\n",
              "                                                                   'legal_ownership_status'],\n",
              "                                                             drop_invariant=False,\n",
              "                                                             handle_missing='value',\n",
              "                                                             handle_unknown='value',\n",
              "                                                             mapping=[{'col...\n",
              "                                                                     n_jobs=-1,\n",
              "                                                                     oob_score=False,\n",
              "                                                                     random_state=42,\n",
              "                                                                     verbose=0,\n",
              "                                                                     warm_start=False))],\n",
              "                                      verbose=False),\n",
              "                   iid='deprecated', n_iter=30, n_jobs=-1,\n",
              "                   param_distributions={'randomforestclassifier__max_depth': range(15, 35, 2),\n",
              "                                        'randomforestclassifier__n_estimators': range(50, 150, 25)},\n",
              "                   pre_dispatch='2*n_jobs', random_state=None, refit=True,\n",
              "                   return_train_score=False, scoring=None, verbose=1)"
            ]
          },
          "metadata": {
            "tags": []
          },
          "execution_count": 23
        }
      ]
    },
    {
      "cell_type": "code",
      "metadata": {
        "colab": {
          "base_uri": "https://localhost:8080/"
        },
        "id": "fc545b20",
        "outputId": "1b1e27c3-5b96-485a-edc7-b54e6ce6b598"
      },
      "source": [
        "#Let's look at our accuracy and parameters:\n",
        "model_be = model.best_estimator_\n",
        "print('RF hyperparameter tuned test score: ', model_be.score(X_train, y_train))\n",
        "print('RF hyperparameter tuned score: ', model_be.score(X_val, y_val))\n",
        "print(model.best_params_)"
      ],
      "id": "fc545b20",
      "execution_count": null,
      "outputs": [
        {
          "output_type": "stream",
          "text": [
            "RF hyperparameter tuned test score:  0.9275470069071374\n",
            "RF hyperparameter tuned score:  0.9288962222520672\n",
            "{'randomforestclassifier__n_estimators': 100, 'randomforestclassifier__max_depth': 29}\n"
          ],
          "name": "stdout"
        }
      ]
    },
    {
      "cell_type": "code",
      "metadata": {
        "colab": {
          "base_uri": "https://localhost:8080/"
        },
        "id": "e5607be3",
        "outputId": "f2f4993a-d696-4509-c45d-3ad82462d128"
      },
      "source": [
        "#This is a much better result. Let's look at the classification report:\n",
        "model_cr = classification_report(y_val, model_be.predict(X_val))\n",
        "print(model_cr)"
      ],
      "id": "e5607be3",
      "execution_count": null,
      "outputs": [
        {
          "output_type": "stream",
          "text": [
            "              precision    recall  f1-score   support\n",
            "\n",
            "           1       0.99      0.86      0.92      5170\n",
            "           2       0.91      0.97      0.94     29487\n",
            "           3       0.95      0.87      0.91     17464\n",
            "\n",
            "    accuracy                           0.93     52121\n",
            "   macro avg       0.95      0.90      0.92     52121\n",
            "weighted avg       0.93      0.93      0.93     52121\n",
            "\n"
          ],
          "name": "stdout"
        }
      ]
    },
    {
      "cell_type": "code",
      "metadata": {
        "colab": {
          "base_uri": "https://localhost:8080/",
          "height": 253
        },
        "id": "b9f4f46e",
        "outputId": "4811aaf7-a1eb-432e-d950-711ee603b2e2"
      },
      "source": [
        "#Precision and recall look really promising for all classes of our target.\n",
        "#Let's also look at a shap waterfall:\n",
        "model_bec = RandomForestClassifier(n_estimators=100, max_depth=29, n_jobs=-1, random_state=42)\n",
        "model_bec.fit(X_c_train, y_train)\n",
        "explainer = shap.Explainer(model_np)\n",
        "shap_values = explainer(X_c_val)\n",
        "row = 0\n",
        "shap.waterfall_plot(shap.Explanation(values=shap_values[0][row].base_values, \n",
        "                                     base_values=explainer.expected_value[0],\n",
        "                                     data=X_c_val.iloc[row],  \n",
        "                                     feature_names=X_c_val.columns.tolist()))"
      ],
      "id": "b9f4f46e",
      "execution_count": null,
      "outputs": [
        {
          "output_type": "display_data",
          "data": {
            "image/png": "[encoded data removed]",
            "text/plain": [
              "<Figure size 576x216 with 3 Axes>"
            ]
          },
          "metadata": {
            "tags": []
          }
        }
      ]
    }
  ]
}